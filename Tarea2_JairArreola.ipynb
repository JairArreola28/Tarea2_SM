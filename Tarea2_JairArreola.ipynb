{
 "cells": [
  {
   "cell_type": "markdown",
   "metadata": {},
   "source": [
    "\n",
    "![](Logo-ITESO-MinimoV.png)\n",
    "\n",
    "Instituto Tecnológico de Estudiios Superiores de Occidente\n",
    "\n",
    "**Nombre:** Jair Salvador Arreola Espinosa\n",
    "\n",
    "**Expediente:** IC702784\n",
    "\n",
    "**Carrera:** Ingeniería Civil \n",
    "\n",
    "\n",
    "\n"
   ]
  },
  {
   "cell_type": "markdown",
   "metadata": {},
   "source": [
    "## Spotlight: por qué el entrenamiento en Python vale la pena\n",
    "\n",
    "\n",
    "### Los fundamentos de Python\n",
    "\n",
    "Usar python es muy sencillo y fácil, actualmente muchas de las computadoras ya cuentan con este programa pre instalado en las computadoras. \n",
    "\n",
    "Las capacidades de Python van desde propósitos generales hasta funciones de programación de nivel superior, y tiene una amplia variedad de aplicaciones.\n",
    "\n",
    "\n",
    "### Usos de Python \n",
    "Django y Flask son los más populares para el desarrollo web, especialmente cuando se trata de crear código de fondo para los propios servidores en lugar de en los dispositivos de los usuarios.\n",
    "\n",
    "El aprendizaje automático es útil para implementar algoritmos que pueden detectar patrones, ya que para reconocimiento facial, reconocimiento de voz y sistemas de recomendación, son algunps de los sistermas que puede usar Amazon y YouTube.\n",
    "\n",
    "\n",
    "### Una mano amiga \n",
    "El estar en constante actualización de los softwares ayudara a que el equipo este mejor capacitado para asi poder resolver problemas de programación más sencillo de una forma fácil.\n",
    "\n",
    "\n",
    "### Conquistando un nuevo idioma \n",
    "\n",
    "\n",
    "\n",
    "![](Codigo.png)\n",
    "\n"
   ]
  },
  {
   "cell_type": "markdown",
   "metadata": {},
   "source": [
    "## Lenguaje de programación del año? Python se destaca en los últimos rankings\n",
    "\n",
    "> \"Python consolida su lugar como un lenguaje de programación entre los tres primeros a largo plazo\" \n",
    "\n",
    "Actualmente python se encuantra como uno de los tres programas más usados en la programación.\n",
    "\n",
    "TIOBE dice que Python es uno de los idiomas que se enseña en las universidades y es uno de los idiomas mas usados para usar el análisis estadístico, de aprendizaje, secuencia de comandos, programación web y informática. \n",
    "\n",
    "TIOBE y otras clasificaciones de popularidad de IEEE Spectrum y PYPL ofrecen a los programadores una forma de evaluar en qué idiomas vale la pena invertir tiempo. MATLAB subió el año pasado del 18 al número 11 y el lenguaje para las  aplicaciones de Android, Kotlin, que subió del puesto 39 al 31.\n",
    "\n",
    "\n",
    "Los 20 idiomas principales en orden descendente para enero de 2019 fueron:\n",
    "+ Java\n",
    "+ C\n",
    "+ Python \n",
    "+ C ++ \n",
    "+ Visual Basic .NET\n",
    "+ JavaScript\n",
    "+ C #\n",
    "+ PHP\n",
    "+ SQL\n",
    "+ Objective-C\n",
    "+ MATLAB, R\n",
    "+ Perl\n",
    "+ lenguaje ensamblador\n",
    "+ Swift\n",
    "+ Go\n",
    "+ Delphi / Object Pascal\n",
    "+ Ruby\n",
    "+ PL / SQL y Visual Basic."
   ]
  }
 ],
 "metadata": {
  "kernelspec": {
   "display_name": "Python 3",
   "language": "python",
   "name": "python3"
  },
  "language_info": {
   "codemirror_mode": {
    "name": "ipython",
    "version": 3
   },
   "file_extension": ".py",
   "mimetype": "text/x-python",
   "name": "python",
   "nbconvert_exporter": "python",
   "pygments_lexer": "ipython3",
   "version": "3.7.3"
  }
 },
 "nbformat": 4,
 "nbformat_minor": 2
}
